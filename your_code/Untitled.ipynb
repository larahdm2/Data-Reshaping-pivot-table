{
 "cells": [
  {
   "cell_type": "code",
   "execution_count": 2,
   "id": "c1a86777",
   "metadata": {},
   "outputs": [
    {
     "name": "stdout",
     "output_type": "stream",
     "text": [
      "Original DataFrame:\n",
      "     Name Department Education Gender      Title  Years  Salary\n",
      "0    Jose         IT  Bachelor      M    analyst      1      35\n",
      "1   Maria         IT    Master      F    analyst      2      30\n",
      "2   David         HR    Master      M    analyst      2      30\n",
      "3   Sonia         HR  Bachelor      F    analyst      4      35\n",
      "4  Samuel      Sales    Master      M  associate      3      55\n",
      "5     Eva      Sales  Bachelor      F  associate      2      55\n",
      "6  Carlos         IT    Master      M         VP      8      70\n",
      "7   Pedro         IT       Phd      M  associate      7      60\n",
      "8     Ana         HR    Master      F         VP      8      70\n",
      "\n",
      "DataFrame after dropping rows with maximum salary for each department:\n",
      "    Name Department Education Gender      Title  Years  Salary\n",
      "0   Jose         IT  Bachelor      M    analyst      1      35\n",
      "1  Maria         IT    Master      F    analyst      2      30\n",
      "2  David         HR    Master      M    analyst      2      30\n",
      "3  Sonia         HR  Bachelor      F    analyst      4      35\n",
      "7  Pedro         IT       Phd      M  associate      7      60\n",
      "\n",
      "Pivot table for mean salary per department:\n",
      "               Salary\n",
      "Department           \n",
      "HR          32.500000\n",
      "IT          41.666667\n"
     ]
    }
   ],
   "source": [
    "import pandas as pd\n",
    "import numpy as np\n",
    "\n",
    "\n",
    "# Create the DataFrame\n",
    "data = {\n",
    "    'Name': ['Jose', 'Maria', 'David', 'Sonia', 'Samuel', 'Eva', 'Carlos', 'Pedro', 'Ana'],\n",
    "    'Department': ['IT', 'IT', 'HR', 'HR', 'Sales', 'Sales', 'IT', 'IT', 'HR'],\n",
    "    'Education': ['Bachelor', 'Master', 'Master', 'Bachelor', 'Master', 'Bachelor', 'Master', 'Phd', 'Master'],\n",
    "    'Gender': ['M', 'F', 'M', 'F', 'M', 'F', 'M', 'M', 'F'],\n",
    "    'Title': ['analyst', 'analyst', 'analyst', 'analyst', 'associate', 'associate', 'VP', 'associate', 'VP'],\n",
    "    'Years': [1, 2, 2, 4, 3, 2, 8, 7, 8],\n",
    "    'Salary': [35, 30, 30, 35, 55, 55, 70, 60, 70]\n",
    "}\n",
    "\n",
    "df = pd.DataFrame(data)\n",
    "\n",
    "# Find the maximum salary for each department\n",
    "max_salaries = df.groupby('Department')['Salary'].transform('max')\n",
    "\n",
    "# Drop rows with maximum salary for each department\n",
    "df_filtered = df[df['Salary'] < max_salaries]\n",
    "\n",
    "# Create a pivot table to compute the mean salary for each department\n",
    "pivot_table = df_filtered.pivot_table(values='Salary', index='Department', aggfunc='mean')\n",
    "\n",
    "print(\"Original DataFrame:\")\n",
    "print(df)\n",
    "print(\"\\nDataFrame after dropping rows with maximum salary for each department:\")\n",
    "print(df_filtered)\n",
    "print(\"\\nPivot table for mean salary per department:\")\n",
    "print(pivot_table)"
   ]
  },
  {
   "cell_type": "code",
   "execution_count": 3,
   "id": "758fea1e",
   "metadata": {},
   "outputs": [
    {
     "data": {
      "text/plain": [
       "0    70\n",
       "1    70\n",
       "2    70\n",
       "3    70\n",
       "4    55\n",
       "5    55\n",
       "6    70\n",
       "7    70\n",
       "8    70\n",
       "Name: Salary, dtype: int64"
      ]
     },
     "execution_count": 3,
     "metadata": {},
     "output_type": "execute_result"
    }
   ],
   "source": [
    "max_salaries"
   ]
  },
  {
   "cell_type": "code",
   "execution_count": null,
   "id": "cbaeecda",
   "metadata": {},
   "outputs": [],
   "source": []
  }
 ],
 "metadata": {
  "kernelspec": {
   "display_name": "Python 3 (ipykernel)",
   "language": "python",
   "name": "python3"
  },
  "language_info": {
   "codemirror_mode": {
    "name": "ipython",
    "version": 3
   },
   "file_extension": ".py",
   "mimetype": "text/x-python",
   "name": "python",
   "nbconvert_exporter": "python",
   "pygments_lexer": "ipython3",
   "version": "3.10.9"
  }
 },
 "nbformat": 4,
 "nbformat_minor": 5
}
